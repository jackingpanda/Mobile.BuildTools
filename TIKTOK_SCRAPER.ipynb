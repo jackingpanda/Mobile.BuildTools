{
  "nbformat": 4,
  "nbformat_minor": 0,
  "metadata": {
    "colab": {
      "name": "TIKTOK SCRAPER.ipynb",
      "provenance": [],
      "collapsed_sections": [],
      "authorship_tag": "ABX9TyOogz4jH9erU9IFxV7f1v2C",
      "include_colab_link": true
    },
    "kernelspec": {
      "name": "python3",
      "display_name": "Python 3"
    }
  },
  "cells": [
    {
      "cell_type": "markdown",
      "metadata": {
        "id": "view-in-github",
        "colab_type": "text"
      },
      "source": [
        "<a href=\"https://colab.research.google.com/github/jackingpanda/Mobile.BuildTools/blob/master/TIKTOK_SCRAPER.ipynb\" target=\"_parent\"><img src=\"https://colab.research.google.com/assets/colab-badge.svg\" alt=\"Open In Colab\"/></a>"
      ]
    },
    {
      "cell_type": "code",
      "metadata": {
        "id": "mb-wlsxnlzkG",
        "colab_type": "code",
        "colab": {}
      },
      "source": [
        "from google.colab import drive\n",
        "drive.mount('/content/drive')"
      ],
      "execution_count": null,
      "outputs": []
    },
    {
      "cell_type": "code",
      "metadata": {
        "id": "E3erqJaBfGCa",
        "colab_type": "code",
        "colab": {}
      },
      "source": [
        "!npm i -g tiktok-scraper\n",
        "!npm i -g npm"
      ],
      "execution_count": null,
      "outputs": []
    },
    {
      "cell_type": "code",
      "metadata": {
        "id": "nN5D6o78hz7q",
        "colab_type": "code",
        "colab": {}
      },
      "source": [
        "!apt-get update\n",
        "!apt-get upgrade\n",
        "!mkdir /content/tiktok/"
      ],
      "execution_count": null,
      "outputs": []
    },
    {
      "cell_type": "code",
      "metadata": {
        "id": "ctIEKU_NjPpv",
        "colab_type": "code",
        "colab": {}
      },
      "source": [
        "#DENGAN WATERMARK\n",
        "#!tiktok-scraper user 'janacutsanjana' -n 500 -d --filepath /content -t csv\n",
        "\n",
        "#TANPA WATERMARK\n",
        "!tiktok-scraper user 'janacutsanjana' -n 500 -d -w --filepath /content/ -t csv"
      ],
      "execution_count": null,
      "outputs": []
    },
    {
      "cell_type": "code",
      "metadata": {
        "id": "h17Kj6GAjRjU",
        "colab_type": "code",
        "colab": {}
      },
      "source": [
        "!rsync --progress -a /content/tiktok/ /content/drive/My\\ Drive/tiktok/"
      ],
      "execution_count": null,
      "outputs": []
    }
  ]
}